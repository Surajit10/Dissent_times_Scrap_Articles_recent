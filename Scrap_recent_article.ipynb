{
  "nbformat": 4,
  "nbformat_minor": 0,
  "metadata": {
    "colab": {
      "provenance": [],
      "authorship_tag": "ABX9TyOXw0ZwzyJGIR1PeiX2h4Nj",
      "include_colab_link": true
    },
    "kernelspec": {
      "name": "python3",
      "display_name": "Python 3"
    },
    "language_info": {
      "name": "python"
    }
  },
  "cells": [
    {
      "cell_type": "markdown",
      "metadata": {
        "id": "view-in-github",
        "colab_type": "text"
      },
      "source": [
        "<a href=\"https://colab.research.google.com/github/Surajit10/Dissent_times_Scrap_Articles_recent/blob/main/Scrap_recent_article.ipynb\" target=\"_parent\"><img src=\"https://colab.research.google.com/assets/colab-badge.svg\" alt=\"Open In Colab\"/></a>"
      ]
    },
    {
      "cell_type": "code",
      "execution_count": null,
      "metadata": {
        "id": "D_4AAK40ocVv"
      },
      "outputs": [],
      "source": [
        "import requests\n",
        "from bs4 import BeautifulSoup\n",
        "\n",
        "\n",
        "# Making a GET request\n",
        "r = requests.get('https://dissenttimes.com/post-sitemap.xml')\n",
        "\n",
        "# check status code for response received\n",
        "# success code - 200\n",
        "# print(r)\n",
        "\n",
        "# Parsing the HTML\n",
        "soup = BeautifulSoup(r.content, 'html.parser')\n",
        "all = soup.prettify()\n",
        "\n"
      ]
    },
    {
      "cell_type": "code",
      "source": [
        "import re\n",
        "l=[]\n",
        "c = soup.find_all('loc')\n",
        "d = soup.find_all('lastmod')\n",
        "c=c[1:]\n",
        "for i in range(len(c)):\n",
        "  c[i]= str(c[i])\n",
        "for i in range(len(d)):\n",
        "  d[i]= str(d[i])\n",
        "\n",
        "new_c=[]\n",
        "new_d=[]\n",
        "\n",
        "for i in c:\n",
        "  new_c.append(i[5:-6])\n",
        "for i in d:\n",
        "  new_d.append(i[11:19])\n",
        "\n",
        "\n",
        "final_list=[]\n",
        "\n",
        "for i in range(len(new_c)):\n",
        "  if new_d[i]==\"22-12-30\" or new_d[i]==\"22-12-29\":\n",
        "    final_list.append(new_c[i])\n",
        "\n",
        "print(final_list)\n",
        "\n",
        "#"
      ],
      "metadata": {
        "colab": {
          "base_uri": "https://localhost:8080/"
        },
        "id": "I3qzMef3pkpF",
        "outputId": "f7612de6-a0ef-4536-8a8f-af6c52ff2c50"
      },
      "execution_count": null,
      "outputs": [
        {
          "output_type": "stream",
          "name": "stdout",
          "text": [
            "['https://dissenttimes.com/kindness-of-a-stranger-a-scar-that-still-brings-up-smile-part-2/', 'https://dissenttimes.com/life-cycle-model-of-interaction-design/', 'https://dissenttimes.com/lessons-from-the-classics-a-christmas-carol/', 'https://dissenttimes.com/bts-army-spares-no-effort-to-celebrate-vs-birthday/', 'https://dissenttimes.com/interesting-facts-about-amitabh-bachchan/', 'https://dissenttimes.com/why-is-interaction-design-important/', 'https://dissenttimes.com/major-achievements-of-meity-india-november-2022/', 'https://dissenttimes.com/rt-pcr-test-has-been-made-mandatory-for-flyers/', 'https://dissenttimes.com/eci-floats-remote-voting-concept/', 'https://dissenttimes.com/4-global-issue-to-watch-in-2023/', 'https://dissenttimes.com/18-children-die-after-consuming-indian-cough-syrup-uzbekistan-suggests-that-indian-made-syrup-is-to-blame-for-deaths/', 'https://dissenttimes.com/understand-the-concept-of-website-surveys-and-questionnaires-types-for-website-surveys/', 'https://dissenttimes.com/employment-crisis-in-india/', 'https://dissenttimes.com/pcb-threatens-to-take-legal-action-against-ramiz-raja/', 'https://dissenttimes.com/learn-how-bollywood-has-frequently-misrepresented-lgbtq-roles/', 'https://dissenttimes.com/vicky-kaushal-shares-his-holiday-pics-on-instagram/', 'https://dissenttimes.com/what-is-interaction-design/', 'https://dissenttimes.com/how-do-you-generate-alternative-designs-how-do-you-choose-among-alternative-designs/', 'https://dissenttimes.com/rise-of-ai-the-tech-trends-that-you-could-see-in-2023/']\n"
          ]
        }
      ]
    },
    {
      "cell_type": "code",
      "source": [
        "file1 = open(\"articles.txt\",\"w\")\n",
        "\n",
        "for i in range(len(final_list)):\n",
        "  file1.write(str(i+1)+\")\"+\" \"+final_list[i])\n",
        "  file1.write(\"\\n\")"
      ],
      "metadata": {
        "id": "qRmtIrr_us-U"
      },
      "execution_count": null,
      "outputs": []
    }
  ]
}